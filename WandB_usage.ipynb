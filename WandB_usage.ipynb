{
 "cells": [
  {
   "cell_type": "markdown",
   "id": "81110148",
   "metadata": {},
   "source": [
    "## Change to the Current working Dir"
   ]
  },
  {
   "cell_type": "code",
   "execution_count": null,
   "id": "86c48f9c",
   "metadata": {},
   "outputs": [],
   "source": [
    "## Change the work dir:\n",
    "import os\n",
    "# Change to a new directory\n",
    "new_directory = \"D:/RL_Finance/Image_to_Text\"\n",
    "os.chdir(new_directory)\n",
    "\n",
    "\n",
    "\n",
    "# Verify the change\n",
    "print(\"Current working directory:\", os.getcwd())"
   ]
  },
  {
   "cell_type": "markdown",
   "id": "8b18897f",
   "metadata": {},
   "source": [
    "## WandB & Lighning for a single Experiment"
   ]
  },
  {
   "cell_type": "code",
   "execution_count": null,
   "id": "75f873a7",
   "metadata": {},
   "outputs": [],
   "source": [
    "import wandb\n",
    "\n",
    "## Put your wandb key\n",
    "!wandb login 999999999999999999999999999999999999\n",
    "\n",
    "\n",
    "wandb.init(project=\"image_to_text\",resume=\"allow\")"
   ]
  },
  {
   "cell_type": "code",
   "execution_count": null,
   "id": "3ea17479",
   "metadata": {},
   "outputs": [],
   "source": [
    "%%time\n",
    "%run text_recognizer/training/run_experiment.py --batch_size 16 --max_epochs 5 --wandb\n",
    "\n",
    "last_expt = wandb.run\n",
    "\n",
    "wandb.finish()"
   ]
  },
  {
   "cell_type": "markdown",
   "id": "d52d4183",
   "metadata": {},
   "source": [
    "## Lighning Hyperparameter Optimization"
   ]
  },
  {
   "cell_type": "code",
   "execution_count": null,
   "id": "9fec6e6e",
   "metadata": {},
   "outputs": [],
   "source": [
    "import wandb\n",
    "\n",
    "## Put your wandb key\n",
    "!wandb login 999999999999999999999999999999999999\n",
    "\n",
    "\n",
    "wandb.init(project=\"image_to_text\",resume=\"allow\")\n",
    "\n",
    "wb_api = wandb.Api()"
   ]
  },
  {
   "cell_type": "code",
   "execution_count": null,
   "id": "13237d51",
   "metadata": {},
   "outputs": [],
   "source": [
    "!wandb sweep text_recognizer/training/sweep.yaml --project image_to_text\n",
    "sweep_id = wb_api.project(\"image_to_text\").sweeps()[0].id"
   ]
  },
  {
   "cell_type": "code",
   "execution_count": null,
   "id": "d43163ec",
   "metadata": {},
   "outputs": [],
   "source": [
    "!wandb agent --project image_to_text --entity {wb_api.default_entity} --count=1 {sweep_id}"
   ]
  }
 ],
 "metadata": {
  "kernelspec": {
   "display_name": "base",
   "language": "python",
   "name": "python3"
  },
  "language_info": {
   "codemirror_mode": {
    "name": "ipython",
    "version": 3
   },
   "file_extension": ".py",
   "mimetype": "text/x-python",
   "name": "python",
   "nbconvert_exporter": "python",
   "pygments_lexer": "ipython3",
   "version": "3.10.9"
  }
 },
 "nbformat": 4,
 "nbformat_minor": 5
}
