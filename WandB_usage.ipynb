{
 "cells": [
  {
   "cell_type": "markdown",
   "id": "81110148",
   "metadata": {},
   "source": [
    "## Change to the Current working Dir"
   ]
  },
  {
   "cell_type": "code",
   "execution_count": 1,
   "id": "86c48f9c",
   "metadata": {},
   "outputs": [
    {
     "name": "stdout",
     "output_type": "stream",
     "text": [
      "Current working directory: D:\\RL_Finance\\Image_to_Text\n"
     ]
    }
   ],
   "source": [
    "## Change the work dir:\n",
    "import os\n",
    "# Change to a new directory\n",
    "new_directory = \"D:/RL_Finance/Image_to_Text\"\n",
    "os.chdir(new_directory)\n",
    "\n",
    "\n",
    "\n",
    "# Verify the change\n",
    "print(\"Current working directory:\", os.getcwd())"
   ]
  },
  {
   "cell_type": "markdown",
   "id": "8b18897f",
   "metadata": {},
   "source": [
    "## WandB & Lighning for a single Experiment"
   ]
  },
  {
   "cell_type": "code",
   "execution_count": null,
   "id": "75f873a7",
   "metadata": {},
   "outputs": [],
   "source": [
    "import wandb\n",
    "\n",
    "## Put your wandb key\n",
    "!wandb login 999999999999999999999999999999999999\n",
    "\n",
    "\n",
    "wandb.init(project=\"image_to_text\",resume=\"allow\")"
   ]
  },
  {
   "cell_type": "code",
   "execution_count": null,
   "id": "3ea17479",
   "metadata": {},
   "outputs": [],
   "source": [
    "%%time\n",
    "%run text_recognizer/training/run_experiment.py --batch_size 16 --max_epochs 5 --wandb\n",
    "\n",
    "last_expt = wandb.run\n",
    "\n",
    "wandb.finish()"
   ]
  },
  {
   "cell_type": "markdown",
   "id": "d52d4183",
   "metadata": {},
   "source": [
    "## Lighning Hyperparameter Optimization"
   ]
  },
  {
   "cell_type": "code",
   "execution_count": 2,
   "id": "9fec6e6e",
   "metadata": {},
   "outputs": [
    {
     "name": "stderr",
     "output_type": "stream",
     "text": [
      "wandb: Appending key for api.wandb.ai to your netrc file: C:\\Users\\xiang\\_netrc\n",
      "wandb: W&B API key is configured. Use `wandb login --relogin` to force relogin\n",
      "\u001b[34m\u001b[1mwandb\u001b[0m: Currently logged in as: \u001b[33mxiangyexu\u001b[0m (\u001b[33mxiangyexu-university-of-waterloo\u001b[0m) to \u001b[32mhttps://api.wandb.ai\u001b[0m. Use \u001b[1m`wandb login --relogin`\u001b[0m to force relogin\n",
      "\u001b[34m\u001b[1mwandb\u001b[0m: Using wandb-core as the SDK backend.  Please refer to https://wandb.me/wandb-core for more information.\n"
     ]
    },
    {
     "data": {
      "text/html": [
       "Tracking run with wandb version 0.19.5"
      ],
      "text/plain": [
       "<IPython.core.display.HTML object>"
      ]
     },
     "metadata": {},
     "output_type": "display_data"
    },
    {
     "data": {
      "text/html": [
       "Run data is saved locally in <code>D:\\RL_Finance\\Image_to_Text\\wandb\\run-20250409_114448-j4j4i2bq</code>"
      ],
      "text/plain": [
       "<IPython.core.display.HTML object>"
      ]
     },
     "metadata": {},
     "output_type": "display_data"
    },
    {
     "data": {
      "text/html": [
       "Syncing run <strong><a href='https://wandb.ai/xiangyexu-university-of-waterloo/image_to_text/runs/j4j4i2bq' target=\"_blank\">misunderstood-elevator-1</a></strong> to <a href='https://wandb.ai/xiangyexu-university-of-waterloo/image_to_text' target=\"_blank\">Weights & Biases</a> (<a href='https://wandb.me/developer-guide' target=\"_blank\">docs</a>)<br>"
      ],
      "text/plain": [
       "<IPython.core.display.HTML object>"
      ]
     },
     "metadata": {},
     "output_type": "display_data"
    },
    {
     "data": {
      "text/html": [
       " View project at <a href='https://wandb.ai/xiangyexu-university-of-waterloo/image_to_text' target=\"_blank\">https://wandb.ai/xiangyexu-university-of-waterloo/image_to_text</a>"
      ],
      "text/plain": [
       "<IPython.core.display.HTML object>"
      ]
     },
     "metadata": {},
     "output_type": "display_data"
    },
    {
     "data": {
      "text/html": [
       " View run at <a href='https://wandb.ai/xiangyexu-university-of-waterloo/image_to_text/runs/j4j4i2bq' target=\"_blank\">https://wandb.ai/xiangyexu-university-of-waterloo/image_to_text/runs/j4j4i2bq</a>"
      ],
      "text/plain": [
       "<IPython.core.display.HTML object>"
      ]
     },
     "metadata": {},
     "output_type": "display_data"
    }
   ],
   "source": [
    "import wandb\n",
    "\n",
    "## Put your own wandb key here\n",
    "!wandb login 9cea57a44f7df81e3434dc972ef754421915e27e\n",
    "\n",
    "\n",
    "wandb.init(project=\"image_to_text\",resume=\"allow\")\n",
    "\n",
    "wb_api = wandb.Api()"
   ]
  },
  {
   "cell_type": "code",
   "execution_count": 3,
   "id": "13237d51",
   "metadata": {},
   "outputs": [
    {
     "name": "stderr",
     "output_type": "stream",
     "text": [
      "wandb: Creating sweep from: training/sweep.yaml\n",
      "wandb: Creating sweep with ID: ywvd2gnv\n",
      "wandb: View sweep at: https://wandb.ai/xiangyexu-university-of-waterloo/image_to_text/sweeps/ywvd2gnv\n",
      "wandb: Run sweep agent with: wandb agent xiangyexu-university-of-waterloo/image_to_text/ywvd2gnv\n"
     ]
    }
   ],
   "source": [
    "!wandb sweep training/sweep.yaml --project image_to_text"
   ]
  },
  {
   "cell_type": "code",
   "execution_count": null,
   "id": "068cf342",
   "metadata": {},
   "outputs": [],
   "source": [
    "!wandb agent xiangyexu-university-of-waterloo/image_to_text/ywvd2gnv\n",
    "\n",
    "\n",
    "## We can also run the following command to do hyperparameter sweep\n",
    "## sweep_id = wb_api.project(\"image_to_text\").sweeps()[0].id\n",
    "## !wandb agent --project image_to_text --entity {wb_api.default_entity} --count=1 {sweep_id}"
   ]
  }
 ],
 "metadata": {
  "kernelspec": {
   "display_name": "base",
   "language": "python",
   "name": "python3"
  },
  "language_info": {
   "codemirror_mode": {
    "name": "ipython",
    "version": 3
   },
   "file_extension": ".py",
   "mimetype": "text/x-python",
   "name": "python",
   "nbconvert_exporter": "python",
   "pygments_lexer": "ipython3",
   "version": "3.10.9"
  }
 },
 "nbformat": 4,
 "nbformat_minor": 5
}
